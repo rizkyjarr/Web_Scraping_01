{
 "cells": [
  {
   "cell_type": "code",
   "execution_count": 1,
   "metadata": {},
   "outputs": [],
   "source": [
    "import requests as req\n",
    "from bs4 import BeautifulSoup\n",
    "import pandas as pd"
   ]
  },
  {
   "cell_type": "code",
   "execution_count": 2,
   "metadata": {},
   "outputs": [],
   "source": [
    "# Setting up url and request\n",
    "url = \"https://modi.esdm.go.id/portal/detailPerusahaan/2800?jp=1\"\n",
    "page = req.get(url)"
   ]
  },
  {
   "cell_type": "code",
   "execution_count": 3,
   "metadata": {},
   "outputs": [],
   "source": [
    "# Create variable soup to fetch html from specific page that's been setup\n",
    "soup = BeautifulSoup(page.text, 'lxml')"
   ]
  },
  {
   "cell_type": "code",
   "execution_count": 4,
   "metadata": {},
   "outputs": [],
   "source": [
    "#get kode_perusahaan\n",
    "job = soup.find('table',class_ = 'table')\n",
    "kode_perusahaan_tag = job.find('tr', class_ = \"table-active\")\n",
    "kode_perusahaan = kode_perusahaan_tag.find_all('td')[-1].get_text(strip=True)"
   ]
  },
  {
   "cell_type": "code",
   "execution_count": 5,
   "metadata": {},
   "outputs": [
    {
     "name": "stdout",
     "output_type": "stream",
     "text": [
      "2800\n"
     ]
    }
   ],
   "source": [
    "# Declaring function to get kode_perusahaan\n",
    "def get_company_code(soup):\n",
    "    try:\n",
    "        row = soup.find('th', string = \"Kode Perusahaan\").find_parent('tr')   \n",
    "        return row.find_all('td')[-1].get_text(strip=True)\n",
    "    except AttributeError:\n",
    "        return None\n",
    "\n",
    "kode_perusahaan = get_company_code(soup)\n",
    "print(kode_perusahaan)"
   ]
  },
  {
   "cell_type": "code",
   "execution_count": 6,
   "metadata": {},
   "outputs": [],
   "source": [
    "# Declaring function for nama_perusahaan\n",
    "\n",
    "def get_company_name(soup):\n",
    "    try:\n",
    "        row = soup.find('th', string= \"Nama Perusahaan\").find_parent('tr')\n",
    "        return row.find_all('td')[1].get_text(strip=True)\n",
    "    except AttributeError:\n",
    "        return None\n",
    "\n",
    "\n",
    "nama_perusahaan = get_company_name(soup)"
   ]
  },
  {
   "cell_type": "code",
   "execution_count": 7,
   "metadata": {},
   "outputs": [
    {
     "name": "stdout",
     "output_type": "stream",
     "text": [
      "PT\n"
     ]
    }
   ],
   "source": [
    "# Declaring function for business_entity\n",
    "def get_business_entity(soup):\n",
    "    try:\n",
    "        row = soup.find('th', string=\"Jenis Badan Usaha\").find_parent('tr')\n",
    "        return row.find_all('td')[-1].get_text(strip=True)\n",
    "    except AttributeError:\n",
    "        return None\n",
    "\n",
    "jenis_badan_usaha = get_business_entity(soup)\n",
    "print(jenis_badan_usaha)\n"
   ]
  },
  {
   "cell_type": "code",
   "execution_count": 8,
   "metadata": {},
   "outputs": [
    {
     "name": "stdout",
     "output_type": "stream",
     "text": [
      "29/1/IUP/PMA/2016\n"
     ]
    }
   ],
   "source": [
    "# Declaring function for no_deed\n",
    "def get_no_deed(soup):\n",
    "    try:\n",
    "        row = soup.find('th', string = \"No. Akte\").find_parent('tr')\n",
    "        return row.find_all('td')[-1].get_text(strip=True)\n",
    "    except AttributeError:\n",
    "        return None\n",
    "\n",
    "no_akte = get_no_deed(soup)\n",
    "print(no_akte)"
   ]
  },
  {
   "cell_type": "code",
   "execution_count": 9,
   "metadata": {},
   "outputs": [
    {
     "name": "stdout",
     "output_type": "stream",
     "text": [
      "2016-09-21\n"
     ]
    }
   ],
   "source": [
    "# Declaring function for date_deed\n",
    "def get_date_deed(soup):\n",
    "    try:\n",
    "        row = soup.find('th', string = \"Tgl. Akte\").find_parent('tr')\n",
    "        return row.find_all('td')[-1].get_text(strip=True)\n",
    "    except AttributeError:\n",
    "        return None\n",
    "\n",
    "tgl_akte = get_date_deed(soup)\n",
    "print(tgl_akte)"
   ]
  },
  {
   "cell_type": "code",
   "execution_count": null,
   "metadata": {},
   "outputs": [
    {
     "name": "stdout",
     "output_type": "stream",
     "text": [
      "Head Office\n"
     ]
    }
   ],
   "source": [
    "# Declaring function to get office flag\n",
    "def get_office_flag(soup):\n",
    "    try:\n",
    "        row = soup.find('div', class_ =\"col-md-9 table-responsive\")\n",
    "        tag = row.find_all('td', class_ = \"\")\n",
    "        office_flag = tag[1].get_text(strip=True)\n",
    "    except AttributeError:\n",
    "        return None\n",
    "    \n",
    "    return office_flag\n",
    "\n",
    "office_flag_GAM = get_office_flag(soup)\n",
    "print(office_flag_GAM)"
   ]
  },
  {
   "cell_type": "code",
   "execution_count": 22,
   "metadata": {},
   "outputs": [
    {
     "name": "stdout",
     "output_type": "stream",
     "text": [
      "PACIFIC CENTURY PLACE LANTAI 33 JALAN JEND. SUDIRMAN KAV.52-53, SCBD LOT 10, KECAMATAN KEBAYORAN BARU, JAKARTA SELATAN DKI JAKARTA 12190\n"
     ]
    }
   ],
   "source": [
    "# Declaring function to get office address\n",
    "def get_office_address(soup):\n",
    "    try:\n",
    "        row = soup.find('div', class_ =\"col-md-9 table-responsive\")\n",
    "        tag = row.find_all('td', class_ = \"\")\n",
    "        office_address = tag[2].get_text(strip=True)\n",
    "    except AttributeError:\n",
    "        return None\n",
    "    \n",
    "    return office_address\n",
    "\n",
    "office_address_GAM = get_office_address(soup)\n",
    "print(office_address_GAM)"
   ]
  },
  {
   "cell_type": "code",
   "execution_count": null,
   "metadata": {},
   "outputs": [
    {
     "name": "stdout",
     "output_type": "stream",
     "text": [
      "\n"
     ]
    }
   ],
   "source": [
    "def get_contact_person(soup):\n",
    "    try:\n",
    "        row = soup.find('div', class_ =\"col-md-9 table-responsive\")\n",
    "        tag = row.find_all('td', class_ = \"\")\n",
    "        contact_person = tag[3].get_text(strip=True)\n",
    "    except AttributeError:\n",
    "        return None\n",
    "    \n",
    "    return contact_person\n",
    "\n",
    "contact_person_GAM = get_contact_person(soup)\n",
    "print(contact_person_GAM)"
   ]
  },
  {
   "cell_type": "code",
   "execution_count": 18,
   "metadata": {},
   "outputs": [],
   "source": [
    "# Creating dictionary schema\n",
    "\n",
    "result = {'company_code': [], 'company_name': [], 'business_entity': [], 'no_deed': [], 'date_deed': [], 'office_flag': [], 'office_address': [], 'contact_person': []}\n",
    "\n",
    "result['company_code'].append(get_company_code(soup))\n",
    "result['company_name'].append(get_company_name(soup))\n",
    "result['business_entity'].append(get_business_entity(soup))\n",
    "result['no_deed'].append(get_no_deed(soup))\n",
    "result['date_deed'].append(get_date_deed(soup))\n",
    "result['office_flag'].append(get_office_flag(soup))\n",
    "result['office_address'].append(get_office_address(soup))\n",
    "result['contact_person'].append(get_contact_person(soup))\n",
    "\n",
    "dataset_modi = pd.DataFrame.from_dict(result)\n"
   ]
  },
  {
   "cell_type": "code",
   "execution_count": 19,
   "metadata": {},
   "outputs": [
    {
     "data": {
      "text/html": [
       "<div>\n",
       "<style scoped>\n",
       "    .dataframe tbody tr th:only-of-type {\n",
       "        vertical-align: middle;\n",
       "    }\n",
       "\n",
       "    .dataframe tbody tr th {\n",
       "        vertical-align: top;\n",
       "    }\n",
       "\n",
       "    .dataframe thead th {\n",
       "        text-align: right;\n",
       "    }\n",
       "</style>\n",
       "<table border=\"1\" class=\"dataframe\">\n",
       "  <thead>\n",
       "    <tr style=\"text-align: right;\">\n",
       "      <th></th>\n",
       "      <th>company_code</th>\n",
       "      <th>company_name</th>\n",
       "      <th>business_entity</th>\n",
       "      <th>no_deed</th>\n",
       "      <th>date_deed</th>\n",
       "      <th>office_flag</th>\n",
       "      <th>office_address</th>\n",
       "      <th>contact_person</th>\n",
       "    </tr>\n",
       "  </thead>\n",
       "  <tbody>\n",
       "    <tr>\n",
       "      <th>0</th>\n",
       "      <td>2800</td>\n",
       "      <td>GANDA ALAM MAKMUR</td>\n",
       "      <td>PT</td>\n",
       "      <td>29/1/IUP/PMA/2016</td>\n",
       "      <td>2016-09-21</td>\n",
       "      <td>Head Office</td>\n",
       "      <td>PACIFIC CENTURY PLACE LANTAI 33 JALAN JEND. SU...</td>\n",
       "      <td></td>\n",
       "    </tr>\n",
       "  </tbody>\n",
       "</table>\n",
       "</div>"
      ],
      "text/plain": [
       "  company_code       company_name business_entity            no_deed  \\\n",
       "0         2800  GANDA ALAM MAKMUR              PT  29/1/IUP/PMA/2016   \n",
       "\n",
       "    date_deed  office_flag                                     office_address  \\\n",
       "0  2016-09-21  Head Office  PACIFIC CENTURY PLACE LANTAI 33 JALAN JEND. SU...   \n",
       "\n",
       "  contact_person  \n",
       "0                 "
      ]
     },
     "execution_count": 19,
     "metadata": {},
     "output_type": "execute_result"
    }
   ],
   "source": [
    "dataset_modi.head()"
   ]
  }
 ],
 "metadata": {
  "kernelspec": {
   "display_name": "Python 3",
   "language": "python",
   "name": "python3"
  },
  "language_info": {
   "codemirror_mode": {
    "name": "ipython",
    "version": 3
   },
   "file_extension": ".py",
   "mimetype": "text/x-python",
   "name": "python",
   "nbconvert_exporter": "python",
   "pygments_lexer": "ipython3",
   "version": "3.11.9"
  }
 },
 "nbformat": 4,
 "nbformat_minor": 2
}
